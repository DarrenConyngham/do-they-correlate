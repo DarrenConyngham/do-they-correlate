{
 "cells": [
  {
   "cell_type": "code",
   "execution_count": 1,
   "metadata": {},
   "outputs": [],
   "source": [
    "import pandas as pd"
   ]
  },
  {
   "cell_type": "code",
   "execution_count": 2,
   "metadata": {},
   "outputs": [],
   "source": [
    "df_country = pd.read_csv('WDICountry.csv')"
   ]
  },
  {
   "cell_type": "code",
   "execution_count": 3,
   "metadata": {},
   "outputs": [],
   "source": [
    "df = pd.read_csv('WDICSV.csv')"
   ]
  },
  {
   "cell_type": "code",
   "execution_count": 4,
   "metadata": {},
   "outputs": [],
   "source": [
    "df_melted = pd.melt(df, id_vars=['Country Name', 'Country Code', 'Indicator Name', 'Indicator Code'],\n",
    "        value_vars=df.columns[4:].to_list(), var_name='Year', value_name='Value')"
   ]
  },
  {
   "cell_type": "code",
   "execution_count": 5,
   "metadata": {},
   "outputs": [
    {
     "data": {
      "text/html": [
       "<div>\n",
       "<style scoped>\n",
       "    .dataframe tbody tr th:only-of-type {\n",
       "        vertical-align: middle;\n",
       "    }\n",
       "\n",
       "    .dataframe tbody tr th {\n",
       "        vertical-align: top;\n",
       "    }\n",
       "\n",
       "    .dataframe thead th {\n",
       "        text-align: right;\n",
       "    }\n",
       "</style>\n",
       "<table border=\"1\" class=\"dataframe\">\n",
       "  <thead>\n",
       "    <tr style=\"text-align: right;\">\n",
       "      <th></th>\n",
       "      <th>Country Name</th>\n",
       "      <th>Country Code</th>\n",
       "      <th>Indicator Name</th>\n",
       "      <th>Indicator Code</th>\n",
       "      <th>Year</th>\n",
       "      <th>Value</th>\n",
       "    </tr>\n",
       "  </thead>\n",
       "  <tbody>\n",
       "    <tr>\n",
       "      <th>50</th>\n",
       "      <td>Africa Eastern and Southern</td>\n",
       "      <td>AFE</td>\n",
       "      <td>Adolescent fertility rate (births per 1,000 wo...</td>\n",
       "      <td>SP.ADO.TFRT</td>\n",
       "      <td>1960</td>\n",
       "      <td>140.180526</td>\n",
       "    </tr>\n",
       "    <tr>\n",
       "      <th>56</th>\n",
       "      <td>Africa Eastern and Southern</td>\n",
       "      <td>AFE</td>\n",
       "      <td>Age dependency ratio (% of working-age populat...</td>\n",
       "      <td>SP.POP.DPND</td>\n",
       "      <td>1960</td>\n",
       "      <td>89.594604</td>\n",
       "    </tr>\n",
       "  </tbody>\n",
       "</table>\n",
       "</div>"
      ],
      "text/plain": [
       "                   Country Name Country Code  \\\n",
       "50  Africa Eastern and Southern          AFE   \n",
       "56  Africa Eastern and Southern          AFE   \n",
       "\n",
       "                                       Indicator Name Indicator Code  Year  \\\n",
       "50  Adolescent fertility rate (births per 1,000 wo...    SP.ADO.TFRT  1960   \n",
       "56  Age dependency ratio (% of working-age populat...    SP.POP.DPND  1960   \n",
       "\n",
       "         Value  \n",
       "50  140.180526  \n",
       "56   89.594604  "
      ]
     },
     "execution_count": 5,
     "metadata": {},
     "output_type": "execute_result"
    }
   ],
   "source": [
    "# Assuming `df` is your DataFrame\n",
    "# Step 1: Group by 'Indicator Name' and 'Year' and calculate NaN proportions\n",
    "nan_proportions = df_melted.groupby(['Indicator Name', 'Year'])['Value'].apply(lambda x: x.isna().mean())\n",
    "\n",
    "# Step 2: Filter out groups where NaN proportion is greater than 50%\n",
    "valid_groups = nan_proportions[nan_proportions <= 0.5].index\n",
    "\n",
    "# Step 3: Filter the original DataFrame to keep only the valid groups\n",
    "df_filtered = df_melted[df_melted.set_index(['Indicator Name', 'Year']).index.isin(valid_groups)]\n",
    "\n",
    "df_filtered.head(2)"
   ]
  },
  {
   "cell_type": "code",
   "execution_count": 6,
   "metadata": {},
   "outputs": [
    {
     "name": "stdout",
     "output_type": "stream",
     "text": [
      "(8955688, 6)\n",
      "(8951432, 6)\n"
     ]
    }
   ],
   "source": [
    "print(df_filtered.shape)\n",
    "# Step 1: Group by 'Indicator Name' and 'Year' and calculate zero proportions\n",
    "zero_proportions = df_filtered.groupby(['Indicator Name', 'Year'])['Value'].apply(lambda x: (x == 0).mean())\n",
    "\n",
    "# Step 2: Filter out groups where zero proportion is 100%\n",
    "# valid_groups = zero_proportions[zero_proportions < 1.0].index\n",
    "valid_groups = zero_proportions[zero_proportions < 0.92].index\n",
    "\n",
    "\n",
    "# Step 3: Filter the original DataFrame to keep only the valid groups\n",
    "df_filtered_zeros = df_filtered[df_filtered.set_index(['Indicator Name', 'Year']).index.isin(valid_groups)]\n",
    "print(df_filtered_zeros.shape)"
   ]
  },
  {
   "cell_type": "code",
   "execution_count": 7,
   "metadata": {},
   "outputs": [],
   "source": [
    "df_filtered_zeros = df_filtered_zeros.dropna()"
   ]
  },
  {
   "cell_type": "code",
   "execution_count": 8,
   "metadata": {},
   "outputs": [],
   "source": [
    "dfm = df_filtered_zeros.merge(df_country, on='Country Code')"
   ]
  },
  {
   "cell_type": "code",
   "execution_count": 9,
   "metadata": {},
   "outputs": [],
   "source": [
    "dfm = dfm[['Country Name',  'Region', 'Indicator Name', 'Year','Value']]"
   ]
  },
  {
   "cell_type": "code",
   "execution_count": 10,
   "metadata": {},
   "outputs": [],
   "source": [
    "dfm.to_parquet('WDIData1960_to_2024.parquet')"
   ]
  },
  {
   "cell_type": "code",
   "execution_count": null,
   "metadata": {},
   "outputs": [],
   "source": []
  },
  {
   "cell_type": "code",
   "execution_count": null,
   "metadata": {},
   "outputs": [],
   "source": [
    "df = pd.read_parquet('WDIData1960_to_2024.parquet')"
   ]
  },
  {
   "cell_type": "code",
   "execution_count": null,
   "metadata": {},
   "outputs": [],
   "source": [
    "df[df['Indicator Name']== 'Mobile cellular subscriptions (per 100 people)'].sort_values(by='Year').head(100)"
   ]
  },
  {
   "cell_type": "code",
   "execution_count": null,
   "metadata": {},
   "outputs": [],
   "source": []
  },
  {
   "cell_type": "code",
   "execution_count": null,
   "metadata": {},
   "outputs": [],
   "source": []
  },
  {
   "cell_type": "code",
   "execution_count": null,
   "metadata": {},
   "outputs": [],
   "source": []
  },
  {
   "cell_type": "code",
   "execution_count": null,
   "metadata": {},
   "outputs": [],
   "source": [
    "df = df[['Country Name', 'Country Code', 'Indicator Name', 'Indicator Code', '2022']]"
   ]
  },
  {
   "cell_type": "code",
   "execution_count": null,
   "metadata": {},
   "outputs": [],
   "source": [
    "dfm= df.merge(df_country, on='Country Code')#.head()"
   ]
  },
  {
   "cell_type": "code",
   "execution_count": null,
   "metadata": {},
   "outputs": [],
   "source": [
    "dfm = dfm.dropna(subset=['2022', 'Region'])"
   ]
  },
  {
   "cell_type": "code",
   "execution_count": null,
   "metadata": {},
   "outputs": [],
   "source": [
    "dfm = dfm[['Country Name', 'Country Code', 'Region', 'Indicator Name', 'Indicator Code', '2022']]"
   ]
  },
  {
   "cell_type": "code",
   "execution_count": null,
   "metadata": {},
   "outputs": [],
   "source": [
    "dfm = dfm.pivot(index=['Country Name', 'Region'], columns='Indicator Name', values='2022')"
   ]
  },
  {
   "cell_type": "code",
   "execution_count": null,
   "metadata": {},
   "outputs": [],
   "source": [
    "dfm = dfm.dropna(thresh=dfm.shape[0]*0.6,axis=1)"
   ]
  },
  {
   "cell_type": "code",
   "execution_count": null,
   "metadata": {},
   "outputs": [],
   "source": [
    "dfm.to_parquet('WDIData2022reduced.parquet')"
   ]
  }
 ],
 "metadata": {
  "kernelspec": {
   "display_name": ".venv",
   "language": "python",
   "name": "python3"
  },
  "language_info": {
   "codemirror_mode": {
    "name": "ipython",
    "version": 3
   },
   "file_extension": ".py",
   "mimetype": "text/x-python",
   "name": "python",
   "nbconvert_exporter": "python",
   "pygments_lexer": "ipython3",
   "version": "3.10.9"
  },
  "orig_nbformat": 4
 },
 "nbformat": 4,
 "nbformat_minor": 2
}
